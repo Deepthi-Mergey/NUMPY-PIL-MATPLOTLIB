{
 "cells": [
  {
   "cell_type": "markdown",
   "id": "737acb47-9c79-4343-a073-cef9753d5d24",
   "metadata": {},
   "source": [
    "NUMPY CODE:-"
   ]
  },
  {
   "cell_type": "markdown",
   "id": "00a0b57e-bac3-4c1e-b04f-7b56d754ef5f",
   "metadata": {},
   "source": [
    "1. ..."
   ]
  },
  {
   "cell_type": "code",
   "execution_count": 1,
   "id": "06a47493-5a7d-4031-9e11-cc04784638c2",
   "metadata": {},
   "outputs": [],
   "source": [
    "import numpy as np"
   ]
  },
  {
   "cell_type": "code",
   "execution_count": 2,
   "id": "9120e871-5688-4e95-84fe-29ccd1d2d228",
   "metadata": {},
   "outputs": [
    {
     "data": {
      "text/plain": [
       "array([ 1,  2,  3,  4,  5,  6,  7,  8,  9, 10, 11, 12])"
      ]
     },
     "execution_count": 2,
     "metadata": {},
     "output_type": "execute_result"
    }
   ],
   "source": [
    "import numpy as np\n",
    "\n",
    "arr = np.array([1, 2, 3, 4, 5, 6, 7, 8, 9, 10, 11, 12]) # THIS IS 1D ARRAY\n",
    "arr"
   ]
  },
  {
   "cell_type": "code",
   "execution_count": 3,
   "id": "964de4c6-65af-4666-a605-f732e09529e6",
   "metadata": {},
   "outputs": [
    {
     "data": {
      "text/plain": [
       "array([[[ 1,  2],\n",
       "        [ 3,  4],\n",
       "        [ 5,  6]],\n",
       "\n",
       "       [[ 7,  8],\n",
       "        [ 9, 10],\n",
       "        [11, 12]]])"
      ]
     },
     "execution_count": 3,
     "metadata": {},
     "output_type": "execute_result"
    }
   ],
   "source": [
    "newarr1 = arr.reshape(2, 3, 2) # WITH RESHAPE FUNCTION NOW CONVERTED IT INTO 3D ARRAY\n",
    "newarr1"
   ]
  },
  {
   "cell_type": "code",
   "execution_count": 4,
   "id": "c23a7bc6-2ede-4f0f-a7b4-0500a7fd6fb7",
   "metadata": {},
   "outputs": [
    {
     "name": "stdout",
     "output_type": "stream",
     "text": [
      "[[[ 1  2]\n",
      "  [ 3  4]\n",
      "  [ 5  6]]\n",
      "\n",
      " [[ 7  8]\n",
      "  [ 9 10]\n",
      "  [11 12]]]\n"
     ]
    }
   ],
   "source": [
    "print(newarr1)"
   ]
  },
  {
   "cell_type": "code",
   "execution_count": 5,
   "id": "8a225bc7-342f-4ea9-8a33-64e75233104f",
   "metadata": {},
   "outputs": [
    {
     "name": "stdout",
     "output_type": "stream",
     "text": [
      "[[ 1  2  3]\n",
      " [ 4  5  6]\n",
      " [ 7  8  9]\n",
      " [10 11 12]]\n"
     ]
    }
   ],
   "source": [
    "newarr2 = arr.reshape(4,3) # WITH RESHAPE FUNCTION NOW CONVERTED INTO a 2D ARRAY - not required now.\n",
    "print(newarr2)"
   ]
  },
  {
   "cell_type": "code",
   "execution_count": 6,
   "id": "1b92b6d5-ffc8-4738-af32-ba2fb0eff4ee",
   "metadata": {},
   "outputs": [
    {
     "data": {
      "text/plain": [
       "array([[[ 1,  2],\n",
       "        [ 3,  4],\n",
       "        [ 5,  6]],\n",
       "\n",
       "       [[ 7,  8],\n",
       "        [ 9, 10],\n",
       "        [11, 12]]])"
      ]
     },
     "execution_count": 6,
     "metadata": {},
     "output_type": "execute_result"
    }
   ],
   "source": [
    "newarr1"
   ]
  },
  {
   "cell_type": "code",
   "execution_count": 7,
   "id": "6d54efe8-6c27-4074-807e-5fd8a26e5ac4",
   "metadata": {},
   "outputs": [
    {
     "name": "stdout",
     "output_type": "stream",
     "text": [
      "[Ellipsis, 2]\n"
     ]
    }
   ],
   "source": [
    "newarr1 = [...,2]\n",
    "print(newarr1)"
   ]
  },
  {
   "cell_type": "code",
   "execution_count": 8,
   "id": "4de793ec-e7a7-48e2-b14f-f92270f5c44a",
   "metadata": {},
   "outputs": [
    {
     "name": "stdout",
     "output_type": "stream",
     "text": [
      "[1, Ellipsis]\n"
     ]
    }
   ],
   "source": [
    "newarr1 =[1,...]\n",
    "print(newarr1)"
   ]
  },
  {
   "cell_type": "markdown",
   "id": "3d3bd76f-2549-4b64-9fb9-1a564b3ffe97",
   "metadata": {},
   "source": [
    "2. []"
   ]
  },
  {
   "cell_type": "code",
   "execution_count": 9,
   "id": "31513d07-4368-4b4b-96b4-02eccfa96010",
   "metadata": {},
   "outputs": [
    {
     "name": "stdout",
     "output_type": "stream",
     "text": [
      "[ 0  1  2  3  4  5  6  7  8  9 10 11 12 13 14 15 16 17 18 19]\n"
     ]
    }
   ],
   "source": [
    "import numpy as np\n",
    "b = np.arange(0,20)\n",
    "print(b)"
   ]
  },
  {
   "cell_type": "code",
   "execution_count": 10,
   "id": "419ccf44-f463-4412-97cd-ed844c54c027",
   "metadata": {},
   "outputs": [
    {
     "name": "stdout",
     "output_type": "stream",
     "text": [
      "[[ 0  1  2  3]\n",
      " [ 4  5  6  7]\n",
      " [ 8  9 10 11]\n",
      " [12 13 14 15]\n",
      " [16 17 18 19]]\n"
     ]
    }
   ],
   "source": [
    "b1 = np.reshape(b,(5,4))\n",
    "print(b1)"
   ]
  },
  {
   "cell_type": "code",
   "execution_count": 11,
   "id": "d4726f0f-a76b-4ffc-a89e-6f457b1c773d",
   "metadata": {},
   "outputs": [
    {
     "data": {
      "text/plain": [
       "0"
      ]
     },
     "execution_count": 11,
     "metadata": {},
     "output_type": "execute_result"
    }
   ],
   "source": [
    "b1[0,0]"
   ]
  },
  {
   "cell_type": "code",
   "execution_count": 12,
   "id": "bb25965a-29f6-4581-91f7-e44997770f86",
   "metadata": {},
   "outputs": [
    {
     "data": {
      "text/plain": [
       "array([16, 17, 18, 19])"
      ]
     },
     "execution_count": 12,
     "metadata": {},
     "output_type": "execute_result"
    }
   ],
   "source": [
    "b1[-1]"
   ]
  },
  {
   "cell_type": "code",
   "execution_count": 13,
   "id": "cca6c738-72f9-443c-bfc0-041d0ae85294",
   "metadata": {},
   "outputs": [
    {
     "data": {
      "text/plain": [
       "array([[ 5,  6,  7],\n",
       "       [ 9, 10, 11]])"
      ]
     },
     "execution_count": 13,
     "metadata": {},
     "output_type": "execute_result"
    }
   ],
   "source": [
    "b1[1:3, 1:4]"
   ]
  },
  {
   "cell_type": "code",
   "execution_count": 14,
   "id": "1fc13cd2-b1de-49b3-8c6e-2a57ddcaa303",
   "metadata": {},
   "outputs": [
    {
     "data": {
      "text/plain": [
       "array([[ 0,  1,  2,  3],\n",
       "       [ 4,  5,  6,  7],\n",
       "       [ 8,  9, 10, 11],\n",
       "       [12, 13, 14, 15],\n",
       "       [16, 17, 18, 19]])"
      ]
     },
     "execution_count": 14,
     "metadata": {},
     "output_type": "execute_result"
    }
   ],
   "source": [
    "b1"
   ]
  },
  {
   "cell_type": "code",
   "execution_count": 15,
   "id": "5a97355e-ef35-4819-8cf0-b40e056b199c",
   "metadata": {},
   "outputs": [
    {
     "data": {
      "text/plain": [
       "array([[False, False, False, False],\n",
       "       [False, False, False, False],\n",
       "       [False, False, False, False],\n",
       "       [False, False, False, False],\n",
       "       [ True,  True,  True,  True]])"
      ]
     },
     "execution_count": 15,
     "metadata": {},
     "output_type": "execute_result"
    }
   ],
   "source": [
    "b1>15"
   ]
  },
  {
   "cell_type": "code",
   "execution_count": 16,
   "id": "05ed4955-e57c-401d-84e4-7d2379d2d018",
   "metadata": {},
   "outputs": [
    {
     "data": {
      "text/plain": [
       "array([[ True,  True,  True,  True],\n",
       "       [ True,  True,  True,  True],\n",
       "       [ True,  True,  True,  True],\n",
       "       [ True,  True,  True,  True],\n",
       "       [False, False, False, False]])"
      ]
     },
     "execution_count": 16,
     "metadata": {},
     "output_type": "execute_result"
    }
   ],
   "source": [
    "b1<=15"
   ]
  },
  {
   "cell_type": "code",
   "execution_count": 17,
   "id": "e062114d-17ac-495d-8ffb-c92ea1cc84fa",
   "metadata": {},
   "outputs": [
    {
     "data": {
      "text/plain": [
       "array([[ 0,  1,  2,  3,  4],\n",
       "       [10, 11, 12, 13, 14],\n",
       "       [20, 21, 22, 23, 24],\n",
       "       [30, 31, 32, 33, 34]])"
      ]
     },
     "execution_count": 17,
     "metadata": {},
     "output_type": "execute_result"
    }
   ],
   "source": [
    "a = np.array([ [ 0, 1, 2, 3, 4],[10,11,12,13,14],[20,21,22,23,24],[30,31,32,33,34] ])\n",
    "a"
   ]
  },
  {
   "cell_type": "code",
   "execution_count": 18,
   "id": "8daf383a-e6bf-452c-ab2f-38bed7d9ed45",
   "metadata": {},
   "outputs": [
    {
     "name": "stdout",
     "output_type": "stream",
     "text": [
      "[[ 0  1  2  3  4]\n",
      " [10 11 12 13 14]\n",
      " [20 21 22 23 24]\n",
      " [30 31 32 33 34]]\n"
     ]
    }
   ],
   "source": [
    "c = np.array( [True,False,True,False] ) # boolean row selector\n",
    "print(a)"
   ]
  },
  {
   "cell_type": "code",
   "execution_count": 19,
   "id": "3cade300-f16c-4877-afbe-8c470088e7e3",
   "metadata": {},
   "outputs": [
    {
     "data": {
      "text/plain": [
       "array([[ 0,  1,  2,  3,  4],\n",
       "       [20, 21, 22, 23, 24]])"
      ]
     },
     "execution_count": 19,
     "metadata": {},
     "output_type": "execute_result"
    }
   ],
   "source": [
    "a[c,:]"
   ]
  },
  {
   "cell_type": "code",
   "execution_count": 20,
   "id": "c13469a9-4cb9-4d0b-b000-3d38bf86a6d5",
   "metadata": {},
   "outputs": [
    {
     "data": {
      "text/plain": [
       "array([[ 1,  2,  4],\n",
       "       [11, 12, 14],\n",
       "       [21, 22, 24],\n",
       "       [31, 32, 34]])"
      ]
     },
     "execution_count": 20,
     "metadata": {},
     "output_type": "execute_result"
    }
   ],
   "source": [
    "d =  np.array([False,True,True,False,True])  # boolean column selector\n",
    "a[:,d]"
   ]
  },
  {
   "cell_type": "code",
   "execution_count": 21,
   "id": "4fb5d447-1518-439f-aeff-8db6ac653368",
   "metadata": {},
   "outputs": [
    {
     "data": {
      "text/plain": [
       "array([[ 0,  1,  2,  3,  4],\n",
       "       [10, 11, 12, 13, 14],\n",
       "       [20, 21, 22, 23, 24],\n",
       "       [30, 31, 32, 33, 34]])"
      ]
     },
     "execution_count": 21,
     "metadata": {},
     "output_type": "execute_result"
    }
   ],
   "source": [
    "a"
   ]
  },
  {
   "cell_type": "code",
   "execution_count": 22,
   "id": "5e8d02dc-e6cd-44d2-abd4-e2e2ffbfd988",
   "metadata": {},
   "outputs": [],
   "source": [
    "i = np.array([0, 1, 2, 1]) # array of indices for the first axis\n",
    "j = np.array([1,2,3,4]) # array of indices for the second axis"
   ]
  },
  {
   "cell_type": "code",
   "execution_count": 23,
   "id": "5c0dad6d-b37a-4d87-a9dc-a2cfda6bb8f7",
   "metadata": {},
   "outputs": [
    {
     "data": {
      "text/plain": [
       "array([ 1, 12, 23, 14])"
      ]
     },
     "execution_count": 23,
     "metadata": {},
     "output_type": "execute_result"
    }
   ],
   "source": [
    "a[i,j]"
   ]
  },
  {
   "cell_type": "markdown",
   "id": "f2ab039f-2d2f-406f-98fe-f9891067c6eb",
   "metadata": {},
   "source": [
    "3. abs() & 4. ABSOLUTE - both are same- Synonym for abs()"
   ]
  },
  {
   "cell_type": "code",
   "execution_count": 24,
   "id": "da4f5e90-12dd-4e05-9216-d31fdb19c936",
   "metadata": {},
   "outputs": [
    {
     "data": {
      "text/plain": [
       "array([[-4, -3, -2],\n",
       "       [-1,  0,  1],\n",
       "       [ 2,  3,  4]])"
      ]
     },
     "execution_count": 24,
     "metadata": {},
     "output_type": "execute_result"
    }
   ],
   "source": [
    "import numpy as np\n",
    "\n",
    "ARR = np.arange(-4,5).reshape(3,3)\n",
    "ARR"
   ]
  },
  {
   "cell_type": "code",
   "execution_count": 25,
   "id": "b6dc5ad0-6dce-4657-8d61-e987ac916dd0",
   "metadata": {},
   "outputs": [
    {
     "data": {
      "text/plain": [
       "array([[4, 3, 2],\n",
       "       [1, 0, 1],\n",
       "       [2, 3, 4]])"
      ]
     },
     "execution_count": 25,
     "metadata": {},
     "output_type": "execute_result"
    }
   ],
   "source": [
    "abs(ARR)"
   ]
  },
  {
   "cell_type": "code",
   "execution_count": 26,
   "id": "3031ae36-7f82-4e5e-b539-198b64f0e004",
   "metadata": {},
   "outputs": [
    {
     "data": {
      "text/plain": [
       "(1.2+5j)"
      ]
     },
     "execution_count": 26,
     "metadata": {},
     "output_type": "execute_result"
    }
   ],
   "source": [
    "ARR1 = 1.2 + 5j\n",
    "ARR1"
   ]
  },
  {
   "cell_type": "code",
   "execution_count": 27,
   "id": "4ab4a124-3751-458e-86c6-8c2b68007043",
   "metadata": {},
   "outputs": [
    {
     "data": {
      "text/plain": [
       "5.141984052872976"
      ]
     },
     "execution_count": 27,
     "metadata": {},
     "output_type": "execute_result"
    }
   ],
   "source": [
    "abs(ARR1) #UNNDER-ROOT OF Square of of real part & imaginary part"
   ]
  },
  {
   "cell_type": "code",
   "execution_count": 28,
   "id": "8e7b6063-aa19-4d03-8cf5-3935dc0215ed",
   "metadata": {},
   "outputs": [
    {
     "data": {
      "text/plain": [
       "5.141984052872976"
      ]
     },
     "execution_count": 28,
     "metadata": {},
     "output_type": "execute_result"
    }
   ],
   "source": [
    "np.absolute(ARR1) "
   ]
  },
  {
   "cell_type": "code",
   "execution_count": 29,
   "id": "d9b6f7bb-ebdf-4bd6-b5d2-1d630c305140",
   "metadata": {},
   "outputs": [
    {
     "data": {
      "text/plain": [
       "array([10, 15])"
      ]
     },
     "execution_count": 29,
     "metadata": {},
     "output_type": "execute_result"
    }
   ],
   "source": [
    "np.absolute([-10, -15])"
   ]
  },
  {
   "cell_type": "markdown",
   "id": "14031b96-5f7e-4b77-be8b-0c09e7b0508c",
   "metadata": {},
   "source": [
    "5. accumulate \n",
    "\n",
    " -computes the sum of the given initial value and the elements in the given range\n",
    " "
   ]
  },
  {
   "cell_type": "code",
   "execution_count": 30,
   "id": "7b80ed3c-5870-4b22-946a-ad6cb7dd698c",
   "metadata": {},
   "outputs": [],
   "source": [
    "import numpy as np"
   ]
  },
  {
   "cell_type": "code",
   "execution_count": 31,
   "id": "90651987-901a-47a5-b8f0-2bd4acfc7275",
   "metadata": {},
   "outputs": [
    {
     "name": "stdout",
     "output_type": "stream",
     "text": [
      "[0 1 2 3 4 5 6 7 8 9]\n"
     ]
    }
   ],
   "source": [
    "A1 = np.arange(0,10) \n",
    "print(A1) "
   ]
  },
  {
   "cell_type": "code",
   "execution_count": 32,
   "id": "8f20dba4-5996-4620-906c-799df21a3f2b",
   "metadata": {},
   "outputs": [
    {
     "data": {
      "text/plain": [
       "array([ 0,  1,  3,  6, 10, 15, 21, 28, 36, 45])"
      ]
     },
     "execution_count": 32,
     "metadata": {},
     "output_type": "execute_result"
    }
   ],
   "source": [
    "np.add.accumulate(A1) # Progressive SUM "
   ]
  },
  {
   "cell_type": "code",
   "execution_count": 33,
   "id": "c5921801-2cd8-4d10-b15a-59c23d9fca70",
   "metadata": {},
   "outputs": [
    {
     "data": {
      "text/plain": [
       "array([1, 2, 3, 4, 5])"
      ]
     },
     "execution_count": 33,
     "metadata": {},
     "output_type": "execute_result"
    }
   ],
   "source": [
    "A2 = np.arange(1,6)\n",
    "A2"
   ]
  },
  {
   "cell_type": "code",
   "execution_count": 34,
   "id": "da3c64d0-310e-42cd-acd2-0846f606afd7",
   "metadata": {},
   "outputs": [
    {
     "data": {
      "text/plain": [
       "array([  1,   2,   6,  24, 120])"
      ]
     },
     "execution_count": 34,
     "metadata": {},
     "output_type": "execute_result"
    }
   ],
   "source": [
    "np.multiply.accumulate(A2)"
   ]
  },
  {
   "cell_type": "code",
   "execution_count": 35,
   "id": "bf9bfb7d-548d-446f-a4cb-8e1beafc60b2",
   "metadata": {},
   "outputs": [
    {
     "data": {
      "text/plain": [
       "array([[1, 2, 3],\n",
       "       [4, 5, 6]])"
      ]
     },
     "execution_count": 35,
     "metadata": {},
     "output_type": "execute_result"
    }
   ],
   "source": [
    "AC = np.array([[1,2,3],[4,5,6]])\n",
    "AC"
   ]
  },
  {
   "cell_type": "code",
   "execution_count": 36,
   "id": "779b5e91-9f00-40c4-9066-a068fec57cd3",
   "metadata": {},
   "outputs": [
    {
     "data": {
      "text/plain": [
       "array([[1, 2, 3],\n",
       "       [5, 7, 9]])"
      ]
     },
     "execution_count": 36,
     "metadata": {},
     "output_type": "execute_result"
    }
   ],
   "source": [
    "np.add.accumulate(AC) # EVERY COLOMN GOT ACCUMULATE"
   ]
  },
  {
   "cell_type": "code",
   "execution_count": 37,
   "id": "a7e7f664-0b21-42a7-b547-55bf6932ee09",
   "metadata": {},
   "outputs": [
    {
     "data": {
      "text/plain": [
       "array([[ 1,  2,  3],\n",
       "       [ 4, 10, 18]])"
      ]
     },
     "execution_count": 37,
     "metadata": {},
     "output_type": "execute_result"
    }
   ],
   "source": [
    "np.multiply.accumulate(AC)"
   ]
  },
  {
   "cell_type": "markdown",
   "id": "a11774e3-9323-4864-9973-cdf93331e663",
   "metadata": {},
   "source": [
    "6. add"
   ]
  },
  {
   "cell_type": "code",
   "execution_count": 38,
   "id": "2e9224f3-626f-406b-999a-a097f36fb521",
   "metadata": {},
   "outputs": [],
   "source": [
    "import numpy as np"
   ]
  },
  {
   "cell_type": "code",
   "execution_count": 39,
   "id": "93a7bb3f-d6f7-4435-8006-2290dd5b2e6a",
   "metadata": {},
   "outputs": [
    {
     "name": "stdout",
     "output_type": "stream",
     "text": [
      "[2, -6] [1, 3] [2.2, 8.7] [7, -3]\n"
     ]
    }
   ],
   "source": [
    "ar1 = [2, -6]\n",
    "ar2 = [1, 3]\n",
    "ar3 = [2.2, 8.7]\n",
    "ar4 = [7, -3]\n",
    "print(ar1, ar2, ar3,  ar4)"
   ]
  },
  {
   "cell_type": "code",
   "execution_count": 40,
   "id": "6ee8f342-379c-4752-8f55-718bc3551108",
   "metadata": {},
   "outputs": [
    {
     "data": {
      "text/plain": [
       "array([ 3, -3])"
      ]
     },
     "execution_count": 40,
     "metadata": {},
     "output_type": "execute_result"
    }
   ],
   "source": [
    "np.add(ar1, ar2)"
   ]
  },
  {
   "cell_type": "code",
   "execution_count": 41,
   "id": "5be6968c-9fb6-4d87-b1f8-87bd0958ec9f",
   "metadata": {},
   "outputs": [
    {
     "data": {
      "text/plain": [
       "array([9.2, 5.7])"
      ]
     },
     "execution_count": 41,
     "metadata": {},
     "output_type": "execute_result"
    }
   ],
   "source": [
    "np.add(ar3, ar4)"
   ]
  },
  {
   "cell_type": "code",
   "execution_count": 42,
   "id": "9a9138b6-9fdc-420d-b9e3-d166a160a94b",
   "metadata": {},
   "outputs": [],
   "source": [
    "C1 = 5+2j"
   ]
  },
  {
   "cell_type": "code",
   "execution_count": 43,
   "id": "0b8aef61-9bc7-406f-9e3c-cd194bbe545b",
   "metadata": {},
   "outputs": [
    {
     "data": {
      "text/plain": [
       "array([ 7.2+2.j, 13.7+2.j])"
      ]
     },
     "execution_count": 43,
     "metadata": {},
     "output_type": "execute_result"
    }
   ],
   "source": [
    "np.add(ar3, C1)"
   ]
  },
  {
   "cell_type": "markdown",
   "id": "bcdadac5-e284-4fa8-86c6-6cc1cc013a68",
   "metadata": {},
   "source": [
    "7. all\n",
    "\n",
    "Test whether all array elements along a given axis evaluate to True"
   ]
  },
  {
   "cell_type": "code",
   "execution_count": 44,
   "id": "55f3e2bd-726e-48bd-9584-d87b7ac48c08",
   "metadata": {},
   "outputs": [
    {
     "data": {
      "text/plain": [
       "array([0, 1, 2, 3, 4, 5, 6, 7, 8, 9])"
      ]
     },
     "execution_count": 44,
     "metadata": {},
     "output_type": "execute_result"
    }
   ],
   "source": [
    "a = np.arange(0,10)\n",
    "a"
   ]
  },
  {
   "cell_type": "code",
   "execution_count": 45,
   "id": "f7aab481-abf2-45e2-9148-6ad1a164f841",
   "metadata": {},
   "outputs": [
    {
     "data": {
      "text/plain": [
       "False"
      ]
     },
     "execution_count": 45,
     "metadata": {},
     "output_type": "execute_result"
    }
   ],
   "source": [
    "np.all(a>5)"
   ]
  },
  {
   "cell_type": "code",
   "execution_count": 46,
   "id": "ff3a38b9-bcca-4d12-bb1f-0e918e5bdb0b",
   "metadata": {},
   "outputs": [
    {
     "data": {
      "text/plain": [
       "True"
      ]
     },
     "execution_count": 46,
     "metadata": {},
     "output_type": "execute_result"
    }
   ],
   "source": [
    "np.all(a>=0)"
   ]
  },
  {
   "cell_type": "code",
   "execution_count": 47,
   "id": "e76ee6b5-cdeb-4e35-8db5-3aafa534d2cc",
   "metadata": {},
   "outputs": [
    {
     "data": {
      "text/plain": [
       "False"
      ]
     },
     "execution_count": 47,
     "metadata": {},
     "output_type": "execute_result"
    }
   ],
   "source": [
    "b7 = np.array([True, False, True, True])\n",
    "np.all(b7)"
   ]
  },
  {
   "cell_type": "markdown",
   "id": "a7471e97-c753-4123-a078-6d4b6effd132",
   "metadata": {},
   "source": [
    "8. allclose\n",
    "\n",
    "-Returns True if two arrays are element-wise equal within a tolerance.\n",
    "\n",
    "https://numpy.org/doc/stable/reference/generated/numpy.allclose.html"
   ]
  },
  {
   "cell_type": "code",
   "execution_count": 48,
   "id": "06d209e0-6229-4e13-bb92-6e8130240cd9",
   "metadata": {},
   "outputs": [
    {
     "data": {
      "text/plain": [
       "False"
      ]
     },
     "execution_count": 48,
     "metadata": {},
     "output_type": "execute_result"
    }
   ],
   "source": [
    "np.allclose([0.1, 0.003], [0.11, 0.003])"
   ]
  },
  {
   "cell_type": "code",
   "execution_count": 49,
   "id": "568635e1-ba8c-4108-9b6d-ac6775d321fc",
   "metadata": {},
   "outputs": [
    {
     "data": {
      "text/plain": [
       "True"
      ]
     },
     "execution_count": 49,
     "metadata": {},
     "output_type": "execute_result"
    }
   ],
   "source": [
    "np.allclose([0.11, 0.0033], [0.11000005, 0.00330001])"
   ]
  },
  {
   "cell_type": "code",
   "execution_count": 50,
   "id": "315d0d2c-ee56-4275-923e-60fba4220d8e",
   "metadata": {},
   "outputs": [
    {
     "data": {
      "text/plain": [
       "False"
      ]
     },
     "execution_count": 50,
     "metadata": {},
     "output_type": "execute_result"
    }
   ],
   "source": [
    "np.allclose([1e10,1e-8], [1.0001e10,1e-9])"
   ]
  },
  {
   "cell_type": "code",
   "execution_count": 51,
   "id": "aaddf4a6-625b-4d69-b6cd-00483f25df1f",
   "metadata": {},
   "outputs": [
    {
     "data": {
      "text/plain": [
       "True"
      ]
     },
     "execution_count": 51,
     "metadata": {},
     "output_type": "execute_result"
    }
   ],
   "source": [
    "np.allclose([1e10,1e-8], [1.00001e10,1e-9])"
   ]
  },
  {
   "cell_type": "markdown",
   "id": "416131fc-a845-4c5b-96a3-88fdf6e5ab6a",
   "metadata": {},
   "source": [
    "9. alltrue- same as all function"
   ]
  },
  {
   "cell_type": "code",
   "execution_count": 52,
   "id": "167a0ace-2144-4dd1-830f-b8b9149342ca",
   "metadata": {},
   "outputs": [
    {
     "data": {
      "text/plain": [
       "False"
      ]
     },
     "execution_count": 52,
     "metadata": {},
     "output_type": "execute_result"
    }
   ],
   "source": [
    "b = np.array([True, False, True, True])\n",
    "np.alltrue(b)"
   ]
  },
  {
   "cell_type": "code",
   "execution_count": 53,
   "id": "86108140-abc8-47ec-9b2e-534aea8efbd9",
   "metadata": {},
   "outputs": [
    {
     "data": {
      "text/plain": [
       "False"
      ]
     },
     "execution_count": 53,
     "metadata": {},
     "output_type": "execute_result"
    }
   ],
   "source": [
    "a = np.array([1, 5, 2, 7])\n",
    "np.alltrue(a >= 5)"
   ]
  },
  {
   "cell_type": "code",
   "execution_count": 54,
   "id": "78d44d23-3ac1-4e5f-9823-37cdcdf331a1",
   "metadata": {},
   "outputs": [
    {
     "data": {
      "text/plain": [
       "True"
      ]
     },
     "execution_count": 54,
     "metadata": {},
     "output_type": "execute_result"
    }
   ],
   "source": [
    "np.alltrue(a>0)"
   ]
  },
  {
   "cell_type": "markdown",
   "id": "55a02418-2d58-405c-b865-3ea435053d46",
   "metadata": {},
   "source": [
    "10.angle\n",
    "\n",
    "Return the angle of the complex argument"
   ]
  },
  {
   "cell_type": "code",
   "execution_count": 55,
   "id": "10e32979-98f6-47aa-b2aa-0d124d070eb0",
   "metadata": {},
   "outputs": [
    {
     "data": {
      "text/plain": [
       "array([0.5404195 , 1.57079633, 0.        ])"
      ]
     },
     "execution_count": 55,
     "metadata": {},
     "output_type": "execute_result"
    }
   ],
   "source": [
    "np.angle([5+3j, 1j, 1.0])   # in RADIAN UNIT"
   ]
  },
  {
   "cell_type": "code",
   "execution_count": 56,
   "id": "87baa68c-ac73-4391-ba3e-1ee19aae67e3",
   "metadata": {},
   "outputs": [
    {
     "data": {
      "text/plain": [
       "array([30.96375653, 90.        ,  0.        ])"
      ]
     },
     "execution_count": 56,
     "metadata": {},
     "output_type": "execute_result"
    }
   ],
   "source": [
    "np.angle([5+3j, 1j, 1.0], deg=True)   # in Degree"
   ]
  },
  {
   "cell_type": "code",
   "execution_count": 57,
   "id": "86a5bc6e-28d3-4399-a2cd-8ae845e4385c",
   "metadata": {},
   "outputs": [
    {
     "data": {
      "text/plain": [
       "45.0"
      ]
     },
     "execution_count": 57,
     "metadata": {},
     "output_type": "execute_result"
    }
   ],
   "source": [
    "np.angle(1+1j,deg=True)"
   ]
  },
  {
   "cell_type": "code",
   "execution_count": 58,
   "id": "02132c2f-41b4-4afd-a0d5-bcf52bd80921",
   "metadata": {},
   "outputs": [
    {
     "data": {
      "text/plain": [
       "0.7853981633974483"
      ]
     },
     "execution_count": 58,
     "metadata": {},
     "output_type": "execute_result"
    }
   ],
   "source": [
    "np.angle(1+1j,deg=False) # in RADIAN Unit"
   ]
  },
  {
   "cell_type": "markdown",
   "id": "4648a0c0-46b6-4425-87d1-3f43994d7668",
   "metadata": {},
   "source": [
    "11. any\n",
    "\n",
    "-gives True if at least 1 element of a is True, otherwise False"
   ]
  },
  {
   "cell_type": "code",
   "execution_count": 59,
   "id": "fdb165bb-6e19-498b-90a4-aaf26c07c5bd",
   "metadata": {},
   "outputs": [
    {
     "data": {
      "text/plain": [
       "array([ True, False,  True])"
      ]
     },
     "execution_count": 59,
     "metadata": {},
     "output_type": "execute_result"
    }
   ],
   "source": [
    "c2 = np.array([True, False, True])\n",
    "c2"
   ]
  },
  {
   "cell_type": "code",
   "execution_count": 60,
   "id": "9da64252-4bf0-4e15-82db-277c6fa2e4b8",
   "metadata": {},
   "outputs": [
    {
     "data": {
      "text/plain": [
       "True"
      ]
     },
     "execution_count": 60,
     "metadata": {},
     "output_type": "execute_result"
    }
   ],
   "source": [
    "np.any(c2)"
   ]
  },
  {
   "cell_type": "code",
   "execution_count": 61,
   "id": "0bf4678d-e31f-4f3d-adb7-d5bf3cfa91f1",
   "metadata": {},
   "outputs": [
    {
     "data": {
      "text/plain": [
       "array([0, 1, 2, 3, 4, 5, 6, 7, 8, 9])"
      ]
     },
     "execution_count": 61,
     "metadata": {},
     "output_type": "execute_result"
    }
   ],
   "source": [
    "c3= np.arange(0,10)\n",
    "c3"
   ]
  },
  {
   "cell_type": "code",
   "execution_count": 62,
   "id": "edfa3f41-d13f-4800-81d1-834908484485",
   "metadata": {},
   "outputs": [
    {
     "data": {
      "text/plain": [
       "True"
      ]
     },
     "execution_count": 62,
     "metadata": {},
     "output_type": "execute_result"
    }
   ],
   "source": [
    "any(c3>=5)"
   ]
  },
  {
   "cell_type": "markdown",
   "id": "d3d02bf8-c900-4dbb-8feb-5ce28a92e649",
   "metadata": {},
   "source": [
    "12. append\n",
    "\n",
    "-Append values to the end of an array"
   ]
  },
  {
   "cell_type": "code",
   "execution_count": 63,
   "id": "3092f415-1aa4-4c12-b3ca-926c35cf18a2",
   "metadata": {},
   "outputs": [
    {
     "data": {
      "text/plain": [
       "array([1, 2, 3, 4, 5, 6, 7, 8, 9])"
      ]
     },
     "execution_count": 63,
     "metadata": {},
     "output_type": "execute_result"
    }
   ],
   "source": [
    "c3= np.append([1, 2, 3], [[4, 5, 6], [7, 8, 9]])\n",
    "c3"
   ]
  },
  {
   "cell_type": "code",
   "execution_count": 64,
   "id": "d3ebee7e-760a-429c-ae15-27929ac29f58",
   "metadata": {},
   "outputs": [
    {
     "data": {
      "text/plain": [
       "array([ 1,  2,  3,  4,  5,  6,  7,  8,  9, 10])"
      ]
     },
     "execution_count": 64,
     "metadata": {},
     "output_type": "execute_result"
    }
   ],
   "source": [
    "c5 =np.append(c3, 10)\n",
    "c5"
   ]
  },
  {
   "cell_type": "code",
   "execution_count": 65,
   "id": "25f809ec-ba35-440d-8aab-26be4db35fa1",
   "metadata": {},
   "outputs": [
    {
     "data": {
      "text/plain": [
       "array(['1', '2', '3', '4', '5', '6', '7', '8', '9', '10', 'ABC', '(1+2j)'],\n",
       "      dtype='<U64')"
      ]
     },
     "execution_count": 65,
     "metadata": {},
     "output_type": "execute_result"
    }
   ],
   "source": [
    "np.append(c5, ('ABC', 1 +2j))"
   ]
  },
  {
   "cell_type": "code",
   "execution_count": 66,
   "id": "07e0e438-0587-4152-a364-c85ff87be445",
   "metadata": {},
   "outputs": [
    {
     "data": {
      "text/plain": [
       "array([10, 20, 30, 40, 50, 60])"
      ]
     },
     "execution_count": 66,
     "metadata": {},
     "output_type": "execute_result"
    }
   ],
   "source": [
    "c9= np.arange(10, 61, 10)\n",
    "c9"
   ]
  },
  {
   "cell_type": "code",
   "execution_count": 67,
   "id": "d5ef1489-e789-4e94-9d7a-cb9144093bc0",
   "metadata": {},
   "outputs": [
    {
     "data": {
      "text/plain": [
       "array([10, 20, 30, 40, 50, 60, 70, 80, 90])"
      ]
     },
     "execution_count": 67,
     "metadata": {},
     "output_type": "execute_result"
    }
   ],
   "source": [
    "np.append(c9, (70, 80, 90))"
   ]
  },
  {
   "cell_type": "code",
   "execution_count": 68,
   "id": "9a903a7f-a3ce-4e22-9fa5-631e4d8cb828",
   "metadata": {},
   "outputs": [
    {
     "data": {
      "text/plain": [
       "array([[10, 20, 30],\n",
       "       [40, 50, 60]])"
      ]
     },
     "execution_count": 68,
     "metadata": {},
     "output_type": "execute_result"
    }
   ],
   "source": [
    "c10 =np.reshape(c9, (2,3))\n",
    "c10"
   ]
  },
  {
   "cell_type": "code",
   "execution_count": 70,
   "id": "bee5d87d-2c46-4ede-8ca3-8dd2067247e4",
   "metadata": {},
   "outputs": [
    {
     "data": {
      "text/plain": [
       "array([[10, 20, 30],\n",
       "       [40, 50, 60],\n",
       "       [70, 80, 90]])"
      ]
     },
     "execution_count": 70,
     "metadata": {},
     "output_type": "execute_result"
    }
   ],
   "source": [
    "c11 = np.append(c10, [[70, 80, 90]], axis = 0)   # Add as a row\n",
    "c11"
   ]
  },
  {
   "cell_type": "code",
   "execution_count": 71,
   "id": "3f758faa-9a90-4184-96f2-c3f210e6f7cd",
   "metadata": {},
   "outputs": [
    {
     "data": {
      "text/plain": [
       "array([[ 10,  20,  30, 100],\n",
       "       [ 40,  50,  60, 120],\n",
       "       [ 70,  80,  90, 130]])"
      ]
     },
     "execution_count": 71,
     "metadata": {},
     "output_type": "execute_result"
    }
   ],
   "source": [
    "c13 = np.append(c11, [[100], [120], [130]], axis = 1) # Add as a column\n",
    "c13"
   ]
  },
  {
   "cell_type": "markdown",
   "id": "c54fd9fc-a3c5-4034-bc48-b063d5efaffc",
   "metadata": {},
   "source": [
    "13. apply_along_axis\n",
    "\n",
    "Apply a function to 1-D slices along the given axis\n",
    "\n",
    "It will apply function to axis"
   ]
  },
  {
   "cell_type": "code",
   "execution_count": 72,
   "id": "09adb0a6-8070-46b5-942c-bd588e89eab6",
   "metadata": {},
   "outputs": [
    {
     "data": {
      "text/plain": [
       "array([[1, 2, 3],\n",
       "       [4, 5, 6],\n",
       "       [7, 8, 9]])"
      ]
     },
     "execution_count": 72,
     "metadata": {},
     "output_type": "execute_result"
    }
   ],
   "source": [
    "def func1(Q): #EX-1\n",
    "    return (Q[0] + Q[-1])\n",
    "abc = np.array([[1,2,3], [4, 5, 6], [7, 8, 9]])\n",
    "abc"
   ]
  },
  {
   "cell_type": "code",
   "execution_count": 73,
   "id": "60fed76c-c538-4e38-8f78-e400c561a8a1",
   "metadata": {},
   "outputs": [
    {
     "data": {
      "text/plain": [
       "array([ 8, 10, 12])"
      ]
     },
     "execution_count": 73,
     "metadata": {},
     "output_type": "execute_result"
    }
   ],
   "source": [
    "np.apply_along_axis(func1,0,abc) # When AXIS= 0 apply func1 to each COLOMN  of abc"
   ]
  },
  {
   "cell_type": "code",
   "execution_count": 74,
   "id": "69a76778-f14c-4b7a-a5a8-8827ef7ef27a",
   "metadata": {},
   "outputs": [
    {
     "data": {
      "text/plain": [
       "array([ 4, 10, 16])"
      ]
     },
     "execution_count": 74,
     "metadata": {},
     "output_type": "execute_result"
    }
   ],
   "source": [
    "np.apply_along_axis(func1,1,abc) # When AXIS= 1 apply func1 to each ROW  of abc"
   ]
  },
  {
   "cell_type": "code",
   "execution_count": 75,
   "id": "074165b6-d95e-4ff0-a68c-a23ffac0a712",
   "metadata": {},
   "outputs": [
    {
     "data": {
      "text/plain": [
       "array([[1, 2, 3],\n",
       "       [4, 5, 6],\n",
       "       [7, 8, 9]])"
      ]
     },
     "execution_count": 75,
     "metadata": {},
     "output_type": "execute_result"
    }
   ],
   "source": [
    "def func2(P): #2\n",
    "    return (P[0] + P[-1])*2\n",
    "abc1 = np.array([[1,2,3], [4, 5, 6], [7, 8, 9]])\n",
    "abc1"
   ]
  },
  {
   "cell_type": "code",
   "execution_count": 77,
   "id": "fb90d828-42a9-427f-b640-405a743f5f2c",
   "metadata": {},
   "outputs": [
    {
     "data": {
      "text/plain": [
       "array([16, 20, 24])"
      ]
     },
     "execution_count": 77,
     "metadata": {},
     "output_type": "execute_result"
    }
   ],
   "source": [
    "np.apply_along_axis(func2,0,abc)"
   ]
  },
  {
   "cell_type": "code",
   "execution_count": 78,
   "id": "981f565e-5ce8-4410-bf2b-e479826aa3b7",
   "metadata": {},
   "outputs": [
    {
     "data": {
      "text/plain": [
       "array([ 8, 20, 32])"
      ]
     },
     "execution_count": 78,
     "metadata": {},
     "output_type": "execute_result"
    }
   ],
   "source": [
    "np.apply_along_axis(func2,1,abc)"
   ]
  },
  {
   "cell_type": "markdown",
   "id": "63899bb2-bd8c-430f-ac13-1bff163cbd5f",
   "metadata": {},
   "source": [
    "14. apply_over_axes()\n",
    "\n",
    "-The numpy.apply_over_axes()applies a function repeatedly over multiple axes in an array."
   ]
  },
  {
   "cell_type": "code",
   "execution_count": 79,
   "id": "ae4e4eca-0996-40be-b35c-983e048e6f09",
   "metadata": {},
   "outputs": [
    {
     "data": {
      "text/plain": [
       "array([ 0,  1,  2,  3,  4,  5,  6,  7,  8,  9, 10, 11, 12, 13, 14, 15, 16,\n",
       "       17, 18, 19, 20, 21, 22, 23])"
      ]
     },
     "execution_count": 79,
     "metadata": {},
     "output_type": "execute_result"
    }
   ],
   "source": [
    "D = np.arange(24)\n",
    "D"
   ]
  },
  {
   "cell_type": "code",
   "execution_count": 80,
   "id": "b0e057e9-cf2c-4ea3-8c5c-86cb313786be",
   "metadata": {},
   "outputs": [
    {
     "data": {
      "text/plain": [
       "array([[[ 0,  1,  2,  3],\n",
       "        [ 4,  5,  6,  7],\n",
       "        [ 8,  9, 10, 11]],\n",
       "\n",
       "       [[12, 13, 14, 15],\n",
       "        [16, 17, 18, 19],\n",
       "        [20, 21, 22, 23]]])"
      ]
     },
     "execution_count": 80,
     "metadata": {},
     "output_type": "execute_result"
    }
   ],
   "source": [
    "D=np.reshape(D, (2,3,4))\n",
    "D"
   ]
  },
  {
   "cell_type": "code",
   "execution_count": 81,
   "id": "a84c300a-0108-40ed-bf19-863c607f9b11",
   "metadata": {},
   "outputs": [
    {
     "data": {
      "text/plain": [
       "array([[[ 60],\n",
       "        [ 92],\n",
       "        [124]]])"
      ]
     },
     "execution_count": 81,
     "metadata": {},
     "output_type": "execute_result"
    }
   ],
   "source": [
    "DQ = np.apply_over_axes(np.sum, D, [0,2]) # sum over all axes except axis=1, result has same shape as original \n",
    "DQ"
   ]
  },
  {
   "cell_type": "markdown",
   "id": "8e3bb768-ee55-44fd-a7cd-0f79a5cf51f7",
   "metadata": {},
   "source": [
    "15. arrange\n",
    "\n",
    "-Return evenly spaced values within a given interval."
   ]
  },
  {
   "cell_type": "code",
   "execution_count": 82,
   "id": "2369e96f-ca18-429b-9405-2ded6d0b16ef",
   "metadata": {},
   "outputs": [
    {
     "data": {
      "text/plain": [
       "array([0, 1, 2, 3, 4, 5, 6, 7, 8])"
      ]
     },
     "execution_count": 82,
     "metadata": {},
     "output_type": "execute_result"
    }
   ],
   "source": [
    "np.arange(9)"
   ]
  },
  {
   "cell_type": "code",
   "execution_count": 83,
   "id": "b3ac2a28-cabb-4046-9e5b-ceeda46a1266",
   "metadata": {},
   "outputs": [
    {
     "data": {
      "text/plain": [
       "array([ 0.,  1.,  2.,  3.,  4.,  5.,  6.,  7.,  8.,  9., 10.])"
      ]
     },
     "execution_count": 83,
     "metadata": {},
     "output_type": "execute_result"
    }
   ],
   "source": [
    "np.arange(11.0)"
   ]
  },
  {
   "cell_type": "code",
   "execution_count": 84,
   "id": "6507c81d-ca48-4601-8ccc-12dc3b2fdeee",
   "metadata": {},
   "outputs": [
    {
     "data": {
      "text/plain": [
       "array([0., 1., 2., 3., 4., 5., 6., 7.])"
      ]
     },
     "execution_count": 84,
     "metadata": {},
     "output_type": "execute_result"
    }
   ],
   "source": [
    "np.arange(8, dtype=float)"
   ]
  },
  {
   "cell_type": "code",
   "execution_count": 85,
   "id": "7a23fda0-afd8-44c2-8feb-f1052b6dc3b6",
   "metadata": {},
   "outputs": [
    {
     "data": {
      "text/plain": [
       "array([5, 6, 7, 8, 9])"
      ]
     },
     "execution_count": 85,
     "metadata": {},
     "output_type": "execute_result"
    }
   ],
   "source": [
    "np.arange(5,10) # start,stop"
   ]
  },
  {
   "cell_type": "code",
   "execution_count": 86,
   "id": "5379495d-f904-4723-96fc-f6ee36d9594e",
   "metadata": {},
   "outputs": [
    {
     "data": {
      "text/plain": [
       "array([ 3, 12, 21])"
      ]
     },
     "execution_count": 86,
     "metadata": {},
     "output_type": "execute_result"
    }
   ],
   "source": [
    "np.arange(3,30,9) # start,stop,step"
   ]
  },
  {
   "cell_type": "markdown",
   "id": "56d9532c-dc80-43b5-bf74-0c981860d38e",
   "metadata": {},
   "source": [
    "16. arccos\n",
    "\n",
    "--Trigonometric inverse cosine\n",
    "\n",
    "-The inverse of cos so that, if y = cos(x), then x = arccos(y)."
   ]
  },
  {
   "cell_type": "code",
   "execution_count": 87,
   "id": "26ff92a3-b6f7-48a1-a75f-6628f5cd7168",
   "metadata": {},
   "outputs": [
    {
     "data": {
      "text/plain": [
       "array([0.        , 3.14159265])"
      ]
     },
     "execution_count": 87,
     "metadata": {},
     "output_type": "execute_result"
    }
   ],
   "source": [
    "np.arccos([1, -1])   # We expect the arccos of 1 to be 0, and of -1 to be pi:"
   ]
  },
  {
   "cell_type": "markdown",
   "id": "fe5acc4a-14e0-44fb-b81a-93ee2cb071ab",
   "metadata": {},
   "source": [
    "17. arccosh\n",
    "\n",
    "Inverse hyperbolic cosine"
   ]
  },
  {
   "cell_type": "code",
   "execution_count": 88,
   "id": "a568a2bd-1d86-450f-90ac-379957f59e17",
   "metadata": {},
   "outputs": [
    {
     "data": {
      "text/plain": [
       "array([1.65745445, 2.99322285])"
      ]
     },
     "execution_count": 88,
     "metadata": {},
     "output_type": "execute_result"
    }
   ],
   "source": [
    "np.arccosh([np.e, 10.0])"
   ]
  },
  {
   "cell_type": "code",
   "execution_count": 89,
   "id": "e3b40234-aef5-422e-983e-7884de0c7ef1",
   "metadata": {},
   "outputs": [
    {
     "data": {
      "text/plain": [
       "0.0"
      ]
     },
     "execution_count": 89,
     "metadata": {},
     "output_type": "execute_result"
    }
   ],
   "source": [
    "np.arccosh(1)"
   ]
  },
  {
   "cell_type": "markdown",
   "id": "735037fa-7268-4cc3-9887-27f44cb2ce8a",
   "metadata": {},
   "source": [
    "18. arcsin\n",
    "\n",
    "--Trigonometric inverse Sine"
   ]
  },
  {
   "cell_type": "code",
   "execution_count": 90,
   "id": "ac043bde-4b15-46e7-93d8-8ee89c51e722",
   "metadata": {},
   "outputs": [
    {
     "data": {
      "text/plain": [
       "array([ 1.57079633, -1.57079633,  0.        ])"
      ]
     },
     "execution_count": 90,
     "metadata": {},
     "output_type": "execute_result"
    }
   ],
   "source": [
    "np.arcsin([1, -1, 0])"
   ]
  },
  {
   "cell_type": "markdown",
   "id": "fedaaff3-5426-4552-a3d3-0a4ea2bff5e0",
   "metadata": {},
   "source": [
    "19. arcsinh\n",
    "\n",
    "Inverse hyperbolic Sine"
   ]
  },
  {
   "cell_type": "code",
   "execution_count": 91,
   "id": "adb4dd82-815b-4a7e-97fc-cfe59dfb3691",
   "metadata": {},
   "outputs": [
    {
     "data": {
      "text/plain": [
       "array([1.72538256, 2.99822295])"
      ]
     },
     "execution_count": 91,
     "metadata": {},
     "output_type": "execute_result"
    }
   ],
   "source": [
    "np.arcsinh([np.e, 10.0])"
   ]
  },
  {
   "cell_type": "markdown",
   "id": "27f6c7a7-82b6-470a-bd0c-1da0c1637861",
   "metadata": {},
   "source": [
    "20. arctan\n",
    "\n",
    "-- Trigonometric inverse tangent, element-wise.\n",
    "\n",
    "The inverse of tan, so that if y = tan(x) then x = arctan(y)."
   ]
  },
  {
   "cell_type": "code",
   "execution_count": 92,
   "id": "632ac597-9ec1-4a99-8556-06de94c9cece",
   "metadata": {},
   "outputs": [
    {
     "data": {
      "text/plain": [
       "array([ 0.        ,  0.78539816, -0.78539816])"
      ]
     },
     "execution_count": 92,
     "metadata": {},
     "output_type": "execute_result"
    }
   ],
   "source": [
    "np.arctan([0, 1, -1])"
   ]
  },
  {
   "cell_type": "markdown",
   "id": "f84c8174-6ef5-4681-a93a-ec1eb874fca6",
   "metadata": {},
   "source": [
    "21. arctan2\n",
    "\n",
    "It computes element-wise arc tangent of arr1/arr2 choosing the quadrant correctly.\n",
    "\n",
    "The quadrant is chosen so that arctan2(x1, x2)"
   ]
  },
  {
   "cell_type": "code",
   "execution_count": 93,
   "id": "c8c5341a-6f8c-4dd9-aa9a-12ae1a42553c",
   "metadata": {},
   "outputs": [
    {
     "data": {
      "text/plain": [
       "array([-135.,  -45.,   45.,  135.])"
      ]
     },
     "execution_count": 93,
     "metadata": {},
     "output_type": "execute_result"
    }
   ],
   "source": [
    "# Consider four points in different quadrants\n",
    "\n",
    "x = np.array([-1, +1, +1, -1])\n",
    "y = np.array([-1, -1, +1, +1])\n",
    "\n",
    "np.arctan2(y, x) * 180 / np.pi # In Degree Unit\n"
   ]
  },
  {
   "cell_type": "code",
   "execution_count": 94,
   "id": "35f047e8-05f2-40a1-80cd-6018db5aa0f4",
   "metadata": {},
   "outputs": [
    {
     "data": {
      "text/plain": [
       "array([-2.35619449, -0.78539816,  0.78539816,  2.35619449])"
      ]
     },
     "execution_count": 94,
     "metadata": {},
     "output_type": "execute_result"
    }
   ],
   "source": [
    "np.arctan2(y, x) # In radian Unit"
   ]
  },
  {
   "cell_type": "code",
   "execution_count": 95,
   "id": "9e9b3906-137d-4529-9afe-256dd12f5fda",
   "metadata": {},
   "outputs": [
    {
     "data": {
      "text/plain": [
       "array([ 1.57079633, -1.57079633])"
      ]
     },
     "execution_count": 95,
     "metadata": {},
     "output_type": "execute_result"
    }
   ],
   "source": [
    "np.arctan2([1., -1.], [0., 0.])"
   ]
  },
  {
   "cell_type": "code",
   "execution_count": 96,
   "id": "945830f2-5976-4442-a749-05742abbc198",
   "metadata": {},
   "outputs": [
    {
     "data": {
      "text/plain": [
       "array([0.        , 1.57079633])"
      ]
     },
     "execution_count": 96,
     "metadata": {},
     "output_type": "execute_result"
    }
   ],
   "source": [
    "np.arctan2([0, 1], [1, 0])"
   ]
  },
  {
   "cell_type": "markdown",
   "id": "c81493b3-3334-4b4f-b1f6-15d8d16d5b9d",
   "metadata": {},
   "source": [
    "22. arctanh\n",
    "\n",
    "Inverse hyperbolic tangent"
   ]
  },
  {
   "cell_type": "code",
   "execution_count": 97,
   "id": "840cf9db-bf96-4d9c-97eb-99e76d4044ef",
   "metadata": {},
   "outputs": [
    {
     "data": {
      "text/plain": [
       "array([ 0.        , -0.54930614])"
      ]
     },
     "execution_count": 97,
     "metadata": {},
     "output_type": "execute_result"
    }
   ],
   "source": [
    "np.arctanh([0, -0.5])"
   ]
  },
  {
   "cell_type": "markdown",
   "id": "b1c665dd-0672-4df6-81a6-8a6ed274e902",
   "metadata": {},
   "source": [
    "23. argmax\n",
    "\n",
    "--Returns the indices of the maximum values along an axis."
   ]
  },
  {
   "cell_type": "code",
   "execution_count": 98,
   "id": "d1c786a4-bb49-4481-ac79-615593cc2cbb",
   "metadata": {},
   "outputs": [],
   "source": [
    "J =np.array([0, 11, 95, 2, -5, 55]) "
   ]
  },
  {
   "cell_type": "code",
   "execution_count": 99,
   "id": "6c99ecb7-6778-4deb-bb68-22fdc81ab6aa",
   "metadata": {},
   "outputs": [
    {
     "data": {
      "text/plain": [
       "2"
      ]
     },
     "execution_count": 99,
     "metadata": {},
     "output_type": "execute_result"
    }
   ],
   "source": [
    "np.argmax(J)"
   ]
  },
  {
   "cell_type": "code",
   "execution_count": 100,
   "id": "a166670b-650b-41d8-83cc-61deef6d5b00",
   "metadata": {},
   "outputs": [
    {
     "data": {
      "text/plain": [
       "array([[10, 11, 12],\n",
       "       [13, 14, 15]])"
      ]
     },
     "execution_count": 100,
     "metadata": {},
     "output_type": "execute_result"
    }
   ],
   "source": [
    "j1 = np.arange(6).reshape(2,3) +10\n",
    "j1"
   ]
  },
  {
   "cell_type": "code",
   "execution_count": 101,
   "id": "e023fd5c-6867-4b39-9bf9-dee49324c93d",
   "metadata": {},
   "outputs": [
    {
     "data": {
      "text/plain": [
       "5"
      ]
     },
     "execution_count": 101,
     "metadata": {},
     "output_type": "execute_result"
    }
   ],
   "source": [
    "np.argmax(j1)"
   ]
  },
  {
   "cell_type": "code",
   "execution_count": 102,
   "id": "cbe83563-52b2-430d-8631-980454c7a4c6",
   "metadata": {},
   "outputs": [],
   "source": [
    "j2 = np.array([[10,50,30],[60,20,60]]) # If having more than 1 maximum values it will result in 1st index ---- NOTE"
   ]
  },
  {
   "cell_type": "code",
   "execution_count": 103,
   "id": "026c5396-d08e-4d12-9240-7ce43abf3518",
   "metadata": {},
   "outputs": [
    {
     "data": {
      "text/plain": [
       "3"
      ]
     },
     "execution_count": 103,
     "metadata": {},
     "output_type": "execute_result"
    }
   ],
   "source": [
    "np.argmax(j2)"
   ]
  },
  {
   "cell_type": "code",
   "execution_count": 104,
   "id": "5617551e-fab7-4a10-bad8-b97dba68fc5b",
   "metadata": {},
   "outputs": [
    {
     "data": {
      "text/plain": [
       "array([[ 1,  9,  0,  4],\n",
       "       [ 2,  0,  8, -1]])"
      ]
     },
     "execution_count": 104,
     "metadata": {},
     "output_type": "execute_result"
    }
   ],
   "source": [
    "J2 = np.array([[1, 9, 0, 4], [2, 0, 8, -1]])\n",
    "J2"
   ]
  },
  {
   "cell_type": "code",
   "execution_count": 105,
   "id": "d02bd8dc-2bed-4c14-a9fb-9cba89b943f4",
   "metadata": {},
   "outputs": [
    {
     "data": {
      "text/plain": [
       "array([1, 0, 1, 0], dtype=int64)"
      ]
     },
     "execution_count": 105,
     "metadata": {},
     "output_type": "execute_result"
    }
   ],
   "source": [
    "np.argmax(J2, axis =0)           # for each column: the row index of the maximum value"
   ]
  },
  {
   "cell_type": "code",
   "execution_count": 106,
   "id": "e31c239e-856b-4fcb-b5ef-93c319873e43",
   "metadata": {},
   "outputs": [
    {
     "data": {
      "text/plain": [
       "array([1, 2], dtype=int64)"
      ]
     },
     "execution_count": 106,
     "metadata": {},
     "output_type": "execute_result"
    }
   ],
   "source": [
    "np.argmax(J2, axis=1)              # for each row: the column index of the maximum value"
   ]
  },
  {
   "cell_type": "markdown",
   "id": "8ab26976-7e28-4f58-b851-f1bd8fc731a1",
   "metadata": {},
   "source": [
    "24. argmin\n",
    "\n",
    "--Returns the indices of the Minimum values along an axis."
   ]
  },
  {
   "cell_type": "code",
   "execution_count": 107,
   "id": "ae70d06f-a7b3-4234-b24d-e063888cd53c",
   "metadata": {},
   "outputs": [
    {
     "data": {
      "text/plain": [
       "array([ 0, 11, 95,  2, -5, 55])"
      ]
     },
     "execution_count": 107,
     "metadata": {},
     "output_type": "execute_result"
    }
   ],
   "source": [
    "d4 =np.array([0, 11, 95, 2, -5, 55]) \n",
    "d4"
   ]
  },
  {
   "cell_type": "code",
   "execution_count": 108,
   "id": "bcb01c95-458d-49c9-b898-febae9825d89",
   "metadata": {},
   "outputs": [
    {
     "data": {
      "text/plain": [
       "4"
      ]
     },
     "execution_count": 108,
     "metadata": {},
     "output_type": "execute_result"
    }
   ],
   "source": [
    "np.argmin(d4)"
   ]
  },
  {
   "cell_type": "code",
   "execution_count": 109,
   "id": "74572041-b506-4259-b531-9b9aec24ebdd",
   "metadata": {},
   "outputs": [
    {
     "data": {
      "text/plain": [
       "array([[10, 11, 12],\n",
       "       [13, 14, 15]])"
      ]
     },
     "execution_count": 109,
     "metadata": {},
     "output_type": "execute_result"
    }
   ],
   "source": [
    "d9 = np.arange(6).reshape(2,3) +10\n",
    "d9"
   ]
  },
  {
   "cell_type": "code",
   "execution_count": 110,
   "id": "801b38ed-aeeb-48b0-996b-6dc14c7289b9",
   "metadata": {},
   "outputs": [
    {
     "data": {
      "text/plain": [
       "0"
      ]
     },
     "execution_count": 110,
     "metadata": {},
     "output_type": "execute_result"
    }
   ],
   "source": [
    "np.argmin(d9)"
   ]
  },
  {
   "cell_type": "code",
   "execution_count": 111,
   "id": "c2ad0305-e07d-4429-89bb-860413400d3d",
   "metadata": {},
   "outputs": [
    {
     "data": {
      "text/plain": [
       "array([[50, 50, 10],\n",
       "       [60, 10, 40]])"
      ]
     },
     "execution_count": 111,
     "metadata": {},
     "output_type": "execute_result"
    }
   ],
   "source": [
    "da2=np.array([[50,50,10],[60,10,40]])\n",
    "da2"
   ]
  },
  {
   "cell_type": "code",
   "execution_count": 112,
   "id": "be47f8ff-5a16-4d7c-8334-c7e3eed00cc7",
   "metadata": {},
   "outputs": [
    {
     "data": {
      "text/plain": [
       "2"
      ]
     },
     "execution_count": 112,
     "metadata": {},
     "output_type": "execute_result"
    }
   ],
   "source": [
    "np.argmin(da2) # If having more than 1 min. vales it will return 1st index ------ NOTE"
   ]
  },
  {
   "cell_type": "code",
   "execution_count": 113,
   "id": "ca58487b-b7a7-4caf-9b2a-61415b01180a",
   "metadata": {},
   "outputs": [
    {
     "data": {
      "text/plain": [
       "array([0, 1, 0], dtype=int64)"
      ]
     },
     "execution_count": 113,
     "metadata": {},
     "output_type": "execute_result"
    }
   ],
   "source": [
    "np.argmin(da2, axis=0) # for each column: the row index of the maximum value"
   ]
  },
  {
   "cell_type": "code",
   "execution_count": 114,
   "id": "f96b9d31-ce19-4f63-90bc-0dc2ced4b342",
   "metadata": {},
   "outputs": [
    {
     "data": {
      "text/plain": [
       "array([2, 1], dtype=int64)"
      ]
     },
     "execution_count": 114,
     "metadata": {},
     "output_type": "execute_result"
    }
   ],
   "source": [
    "np.argmin(da2, axis=1)   # for each row: the column index of the maximum value"
   ]
  },
  {
   "cell_type": "markdown",
   "id": "bbac56b4-425f-4e64-9ef9-47fe59fbc11f",
   "metadata": {},
   "source": [
    "25. argsoft\n",
    "\n",
    "--- Returns the indices that would sort an array"
   ]
  },
  {
   "cell_type": "code",
   "execution_count": 115,
   "id": "1c9e13ff-f730-4598-905d-cbc0506bcee0",
   "metadata": {},
   "outputs": [
    {
     "data": {
      "text/plain": [
       "array([2, 0, 1, 5, 4, 1, 9])"
      ]
     },
     "execution_count": 115,
     "metadata": {},
     "output_type": "execute_result"
    }
   ],
   "source": [
    "AB1 = np.array([ 2, 0,  1, 5, 4, 1, 9])\n",
    "AB1"
   ]
  },
  {
   "cell_type": "code",
   "execution_count": 116,
   "id": "03bab7a5-3e80-4904-9d47-61e3581f3291",
   "metadata": {},
   "outputs": [
    {
     "data": {
      "text/plain": [
       "array([1, 2, 5, 0, 4, 3, 6], dtype=int64)"
      ]
     },
     "execution_count": 116,
     "metadata": {},
     "output_type": "execute_result"
    }
   ],
   "source": [
    "np.argsort(AB1) # It will sort & write Indices of elemets"
   ]
  },
  {
   "cell_type": "code",
   "execution_count": 117,
   "id": "a56f9aae-eef7-4789-8fdf-2a27a7b1024b",
   "metadata": {},
   "outputs": [
    {
     "data": {
      "text/plain": [
       "array([1, 2, 5, 0, 4, 3, 6], dtype=int64)"
      ]
     },
     "execution_count": 117,
     "metadata": {},
     "output_type": "execute_result"
    }
   ],
   "source": [
    "# FOR SORTING OF VALUES\n",
    "\n",
    "BQ = np.argsort(AB1)\n",
    "BQ"
   ]
  },
  {
   "cell_type": "code",
   "execution_count": 118,
   "id": "09bc083c-b535-4715-93a0-e709368d7374",
   "metadata": {},
   "outputs": [
    {
     "data": {
      "text/plain": [
       "array([0, 1, 1, 2, 4, 5, 9])"
      ]
     },
     "execution_count": 118,
     "metadata": {},
     "output_type": "execute_result"
    }
   ],
   "source": [
    "AB1[BQ] # same effect as sort() but on Values"
   ]
  },
  {
   "cell_type": "code",
   "execution_count": 119,
   "id": "2f645d84-3932-4080-9a7b-f9d338d19fe8",
   "metadata": {},
   "outputs": [
    {
     "data": {
      "text/plain": [
       "array([[8, 4, 1],\n",
       "       [2, 0, 9]])"
      ]
     },
     "execution_count": 119,
     "metadata": {},
     "output_type": "execute_result"
    }
   ],
   "source": [
    "aq1 = np.array([[8,4,1],[2,0,9]])\n",
    "aq1"
   ]
  },
  {
   "cell_type": "code",
   "execution_count": 120,
   "id": "ff257adb-777e-4bca-a61f-7b160d3c9419",
   "metadata": {},
   "outputs": [
    {
     "data": {
      "text/plain": [
       "array([[1, 1, 0],\n",
       "       [0, 0, 1]], dtype=int64)"
      ]
     },
     "execution_count": 120,
     "metadata": {},
     "output_type": "execute_result"
    }
   ],
   "source": [
    "JQ1 = aq1.argsort(axis=0) # sorts on columns. NOT the same as aq1.sort(axis=1)\n",
    "JQ1"
   ]
  },
  {
   "cell_type": "code",
   "execution_count": 121,
   "id": "d85f6143-ed64-4fcd-9202-592822d0cf2e",
   "metadata": {},
   "outputs": [
    {
     "data": {
      "text/plain": [
       "array([[2, 0, 1],\n",
       "       [8, 4, 9]])"
      ]
     },
     "execution_count": 121,
     "metadata": {},
     "output_type": "execute_result"
    }
   ],
   "source": [
    "aq1[JQ1,[[0,1,2], [0,1,2]]] # 2-D arrays need fancy indexing if you want to sort them."
   ]
  },
  {
   "cell_type": "code",
   "execution_count": 122,
   "id": "438021b3-15f7-4ec9-aea9-161731c448eb",
   "metadata": {},
   "outputs": [
    {
     "data": {
      "text/plain": [
       "array([[2, 1, 0],\n",
       "       [1, 0, 2]], dtype=int64)"
      ]
     },
     "execution_count": 122,
     "metadata": {},
     "output_type": "execute_result"
    }
   ],
   "source": [
    "JQ1 = aq1.argsort(axis=1)  # sort along rows. Can use aq1.argsort(axis=-1) for last axis.\n",
    "JQ1 "
   ]
  },
  {
   "cell_type": "markdown",
   "id": "95e48a9f-dbbf-4697-b462-664dbca93139",
   "metadata": {},
   "source": [
    "26. array\n",
    "\n",
    "To Create an array."
   ]
  },
  {
   "cell_type": "code",
   "execution_count": 123,
   "id": "35a29a2a-64ac-498d-a102-fccc12db9135",
   "metadata": {},
   "outputs": [
    {
     "data": {
      "text/plain": [
       "array([1., 2., 3.])"
      ]
     },
     "execution_count": 123,
     "metadata": {},
     "output_type": "execute_result"
    }
   ],
   "source": [
    "np.array([1, 2, 3.0])"
   ]
  },
  {
   "cell_type": "code",
   "execution_count": 124,
   "id": "b881355f-9d21-41d1-b47e-bc6dc1fab4a4",
   "metadata": {},
   "outputs": [
    {
     "data": {
      "text/plain": [
       "array([[1, 2],\n",
       "       [3, 4]])"
      ]
     },
     "execution_count": 124,
     "metadata": {},
     "output_type": "execute_result"
    }
   ],
   "source": [
    "np.array([[1, 2], [3, 4]]) # More than one dimension:"
   ]
  },
  {
   "cell_type": "code",
   "execution_count": 125,
   "id": "39ea7657-04cc-470d-bb43-95e8d257864a",
   "metadata": {},
   "outputs": [
    {
     "data": {
      "text/plain": [
       "array([1.+0.j, 2.+0.j, 3.+0.j])"
      ]
     },
     "execution_count": 125,
     "metadata": {},
     "output_type": "execute_result"
    }
   ],
   "source": [
    "np.array([1, 2, 3], dtype=complex) # Type provided:"
   ]
  },
  {
   "cell_type": "code",
   "execution_count": 126,
   "id": "6e4b2ff5-7a5c-4a04-b510-8f679fe498d5",
   "metadata": {},
   "outputs": [
    {
     "data": {
      "text/plain": [
       "array([[1, 2, 3]])"
      ]
     },
     "execution_count": 126,
     "metadata": {},
     "output_type": "execute_result"
    }
   ],
   "source": [
    "np.array([1, 2, 3], ndmin=2)  # Minimum dimensions 2:"
   ]
  },
  {
   "cell_type": "code",
   "execution_count": 127,
   "id": "dd78f8d2-c20d-4461-9aaf-08f2f56f8c70",
   "metadata": {},
   "outputs": [
    {
     "data": {
      "text/plain": [
       "array([1])"
      ]
     },
     "execution_count": 127,
     "metadata": {},
     "output_type": "execute_result"
    }
   ],
   "source": [
    "np.array(1, copy=0, subok=1, ndmin=1) # basically equivalent to atleast_1d"
   ]
  },
  {
   "cell_type": "code",
   "execution_count": 128,
   "id": "e355c668-e0dc-4c66-a9d0-8b872e0cdf4d",
   "metadata": {},
   "outputs": [
    {
     "data": {
      "text/plain": [
       "array([[1]])"
      ]
     },
     "execution_count": 128,
     "metadata": {},
     "output_type": "execute_result"
    }
   ],
   "source": [
    "np.array(1, copy=0, subok=1, ndmin=2) # basically equivalent to atleast_2d"
   ]
  },
  {
   "cell_type": "code",
   "execution_count": 129,
   "id": "6a073eea-0f7d-4ece-8406-9c2d3c6500b3",
   "metadata": {},
   "outputs": [
    {
     "data": {
      "text/plain": [
       "array([[1]])"
      ]
     },
     "execution_count": 129,
     "metadata": {},
     "output_type": "execute_result"
    }
   ],
   "source": [
    "np.array(1, subok=1, ndmin=2) # like atleast_2d but always makes a copy"
   ]
  },
  {
   "cell_type": "markdown",
   "id": "0d00ab19-70d7-4eb8-833e-268cc0fddf6a",
   "metadata": {},
   "source": [
    "27. arrayrange\n",
    "\n",
    "-Synonym for arange."
   ]
  },
  {
   "cell_type": "markdown",
   "id": "9b32b7a7-b1ab-43f7-a847-4eb0f0938c8a",
   "metadata": {},
   "source": [
    "28. array split\n",
    "\n",
    "-Split an array into multiple sub-arrays"
   ]
  },
  {
   "cell_type": "code",
   "execution_count": 131,
   "id": "490b5722-a852-4792-83c9-e32b7e071e85",
   "metadata": {},
   "outputs": [
    {
     "data": {
      "text/plain": [
       "array([[1, 2, 3, 4],\n",
       "       [5, 6, 7, 8]])"
      ]
     },
     "execution_count": 131,
     "metadata": {},
     "output_type": "execute_result"
    }
   ],
   "source": [
    "c4 = np.array([[1,2,3,4],[5,6,7,8]])\n",
    "c4"
   ]
  },
  {
   "cell_type": "code",
   "execution_count": 132,
   "id": "261bab6d-1696-478e-a71c-01828336718b",
   "metadata": {},
   "outputs": [
    {
     "data": {
      "text/plain": [
       "[array([[1, 2, 3, 4]]), array([[5, 6, 7, 8]])]"
      ]
     },
     "execution_count": 132,
     "metadata": {},
     "output_type": "execute_result"
    }
   ],
   "source": [
    "np.array_split(c4,2,axis=0) # split c4 in 2 parts. row-wise"
   ]
  },
  {
   "cell_type": "code",
   "execution_count": 133,
   "id": "0f1a2191-f434-498a-802c-20b3812f5d27",
   "metadata": {},
   "outputs": [
    {
     "data": {
      "text/plain": [
       "[array([[1],\n",
       "        [5]]),\n",
       " array([[2],\n",
       "        [6]]),\n",
       " array([[3],\n",
       "        [7]]),\n",
       " array([[4],\n",
       "        [8]])]"
      ]
     },
     "execution_count": 133,
     "metadata": {},
     "output_type": "execute_result"
    }
   ],
   "source": [
    "np.array_split(c4,4,axis=1) # split c4 in 4 parts, column-wise"
   ]
  },
  {
   "cell_type": "code",
   "execution_count": 134,
   "id": "6608a421-8bfe-47d9-89f2-1b58e725cc94",
   "metadata": {},
   "outputs": [
    {
     "data": {
      "text/plain": [
       "[array([[1, 2],\n",
       "        [5, 6]]),\n",
       " array([[3],\n",
       "        [7]]),\n",
       " array([[4],\n",
       "        [8]])]"
      ]
     },
     "execution_count": 134,
     "metadata": {},
     "output_type": "execute_result"
    }
   ],
   "source": [
    "np.array_split(c4,3,axis=1) # impossible to split in 3 equal parts -> first part(s) are big"
   ]
  },
  {
   "cell_type": "code",
   "execution_count": 135,
   "id": "2d31ff21-a751-41a3-a545-4278fb316097",
   "metadata": {},
   "outputs": [
    {
     "data": {
      "text/plain": [
       "[array([[1, 2, 3, 4]]),\n",
       " array([[5, 6, 7, 8]]),\n",
       " array([], shape=(0, 4), dtype=int32)]"
      ]
     },
     "execution_count": 135,
     "metadata": {},
     "output_type": "execute_result"
    }
   ],
   "source": [
    "np.array_split(c4,3,axis=0) # split c4 in 3 parts. row-wise"
   ]
  },
  {
   "cell_type": "code",
   "execution_count": 136,
   "id": "cd0bd44a-92c1-4fa6-a81a-f49fe1b2b517",
   "metadata": {},
   "outputs": [
    {
     "data": {
      "text/plain": [
       "[array([[1, 2],\n",
       "        [5, 6]]),\n",
       " array([[3],\n",
       "        [7]]),\n",
       " array([[4],\n",
       "        [8]])]"
      ]
     },
     "execution_count": 136,
     "metadata": {},
     "output_type": "execute_result"
    }
   ],
   "source": [
    "np.array_split(c4,[2,3],axis=1) # make c4 split before the 2nd and the 3rd column"
   ]
  },
  {
   "cell_type": "markdown",
   "id": "65206b8b-baa3-4f12-9064-5fc561e48074",
   "metadata": {},
   "source": [
    "29. asarray\n",
    "\n",
    "Convert the input to an array."
   ]
  },
  {
   "cell_type": "code",
   "execution_count": 137,
   "id": "28c8c4e2-1143-4088-816c-a03f72178ba8",
   "metadata": {},
   "outputs": [
    {
     "data": {
      "text/plain": [
       "array([1, 3, 5, 7, 9])"
      ]
     },
     "execution_count": 137,
     "metadata": {},
     "output_type": "execute_result"
    }
   ],
   "source": [
    "my_list = [1, 3, 5, 7, 9]\n",
    "np.asarray(my_list)     # List to array "
   ]
  },
  {
   "cell_type": "code",
   "execution_count": 138,
   "id": "48c74abe-4726-4c87-b69e-f17c6d1bfe2c",
   "metadata": {},
   "outputs": [
    {
     "data": {
      "text/plain": [
       "array([[1, 3, 9],\n",
       "       [8, 2, 6]])"
      ]
     },
     "execution_count": 138,
     "metadata": {},
     "output_type": "execute_result"
    }
   ],
   "source": [
    "my_tuple = ([1, 3, 9], [8, 2, 6])\n",
    "np.asarray(my_tuple)   # Tuple to array "
   ]
  },
  {
   "cell_type": "code",
   "execution_count": 139,
   "id": "d469481e-b512-4fc8-bb08-5d7052049e11",
   "metadata": {},
   "outputs": [
    {
     "data": {
      "text/plain": [
       "matrix([[1, 2],\n",
       "        [5, 8]])"
      ]
     },
     "execution_count": 139,
     "metadata": {},
     "output_type": "execute_result"
    }
   ],
   "source": [
    "m = np.matrix('1 2; 5 8')\n",
    "m"
   ]
  },
  {
   "cell_type": "code",
   "execution_count": 140,
   "id": "c3c03397-844a-481a-a599-47d726889942",
   "metadata": {},
   "outputs": [
    {
     "data": {
      "text/plain": [
       "array([[1, 2],\n",
       "       [5, 8]])"
      ]
     },
     "execution_count": 140,
     "metadata": {},
     "output_type": "execute_result"
    }
   ],
   "source": [
    "B9 = np.asarray(m) # B9 is a array type with same contents as m -- data is not copied\n",
    "B9"
   ]
  },
  {
   "cell_type": "code",
   "execution_count": 141,
   "id": "11ed3191-067a-440d-baf8-540092a0cd93",
   "metadata": {},
   "outputs": [
    {
     "data": {
      "text/plain": [
       "matrix([[   1, -190],\n",
       "        [   5,    8]])"
      ]
     },
     "execution_count": 141,
     "metadata": {},
     "output_type": "execute_result"
    }
   ],
   "source": [
    "m[0,1] = -190\n",
    "m"
   ]
  },
  {
   "cell_type": "code",
   "execution_count": 142,
   "id": "eea9e33a-9907-41c2-9b29-f1f374a1c0d4",
   "metadata": {},
   "outputs": [
    {
     "data": {
      "text/plain": [
       "array([[   1, -190],\n",
       "       [   5,    8]])"
      ]
     },
     "execution_count": 142,
     "metadata": {},
     "output_type": "execute_result"
    }
   ],
   "source": [
    "B9 # though a copy of m was not made, modifying m modified B9 as well "
   ]
  },
  {
   "cell_type": "markdown",
   "id": "d2150571-cb5b-40a0-ab33-b8a864cefa4c",
   "metadata": {},
   "source": [
    "30. asanyarray\n",
    "\n",
    "-Convert the input to an ndarray, but pass ndarray subclasses through."
   ]
  },
  {
   "cell_type": "code",
   "execution_count": 143,
   "id": "5e0452f1-29f5-498a-9aa7-ddec933d0a3c",
   "metadata": {},
   "outputs": [
    {
     "data": {
      "text/plain": [
       "array([[1, 2],\n",
       "       [5, 8]])"
      ]
     },
     "execution_count": 143,
     "metadata": {},
     "output_type": "execute_result"
    }
   ],
   "source": [
    "c7 = np.array([[1,2],[5,8]])\n",
    "c7"
   ]
  },
  {
   "cell_type": "code",
   "execution_count": 144,
   "id": "c25d9431-d024-4556-a92e-9e3af6d1d81d",
   "metadata": {},
   "outputs": [
    {
     "data": {
      "text/plain": [
       "matrix([[1, 2],\n",
       "        [5, 8]])"
      ]
     },
     "execution_count": 144,
     "metadata": {},
     "output_type": "execute_result"
    }
   ],
   "source": [
    "mq = np.matrix('1 2; 5 8')\n",
    "mq"
   ]
  },
  {
   "cell_type": "code",
   "execution_count": 145,
   "id": "6c75f416-a4be-42ef-ac54-5c93eef75a34",
   "metadata": {},
   "outputs": [
    {
     "data": {
      "text/plain": [
       "array([[1, 2],\n",
       "       [5, 8]])"
      ]
     },
     "execution_count": 145,
     "metadata": {},
     "output_type": "execute_result"
    }
   ],
   "source": [
    "np.asanyarray(c7) # the array c7 is returned unmodified"
   ]
  },
  {
   "cell_type": "code",
   "execution_count": 146,
   "id": "f553c85d-31ac-48d7-b962-e295aff647ea",
   "metadata": {},
   "outputs": [
    {
     "data": {
      "text/plain": [
       "matrix([[1, 2],\n",
       "        [5, 8]])"
      ]
     },
     "execution_count": 146,
     "metadata": {},
     "output_type": "execute_result"
    }
   ],
   "source": [
    "np.asanyarray(mq) # the matrix mq is returned unmodified"
   ]
  },
  {
   "cell_type": "code",
   "execution_count": 147,
   "id": "7f6df302-04ec-49ac-bc80-8a1d9a672641",
   "metadata": {},
   "outputs": [
    {
     "data": {
      "text/plain": [
       "([1, 3, 9], [8, 2, 6])"
      ]
     },
     "execution_count": 147,
     "metadata": {},
     "output_type": "execute_result"
    }
   ],
   "source": [
    "my_tuple1 = ([1, 3, 9], [8, 2, 6])\n",
    "my_tuple1"
   ]
  },
  {
   "cell_type": "code",
   "execution_count": 148,
   "id": "36c6eced-d4a0-4662-9155-cbf2234e7bb1",
   "metadata": {},
   "outputs": [
    {
     "data": {
      "text/plain": [
       "array([[1, 3, 9],\n",
       "       [8, 2, 6]])"
      ]
     },
     "execution_count": 148,
     "metadata": {},
     "output_type": "execute_result"
    }
   ],
   "source": [
    "np.asanyarray(my_tuple1)"
   ]
  },
  {
   "cell_type": "markdown",
   "id": "5cf16c47-faf8-4eeb-a345-bc382e59d9b3",
   "metadata": {},
   "source": [
    "31. asmatrix\n",
    "\n",
    "Interpret the input as a matrix."
   ]
  },
  {
   "cell_type": "code",
   "execution_count": 149,
   "id": "b79783ba-d4fd-42c6-b0f3-459381ee26c2",
   "metadata": {},
   "outputs": [
    {
     "data": {
      "text/plain": [
       "matrix([[1, 2],\n",
       "        [3, 4]])"
      ]
     },
     "execution_count": 149,
     "metadata": {},
     "output_type": "execute_result"
    }
   ],
   "source": [
    "x = np.array([[1, 2], [3, 4]])\n",
    "m = np.asmatrix(x)  # m is matrix type with same contents as x -- data is not copied\n",
    "m"
   ]
  },
  {
   "cell_type": "code",
   "execution_count": 150,
   "id": "977b883c-6867-4f89-a5d0-87e79e605a33",
   "metadata": {},
   "outputs": [
    {
     "name": "stdout",
     "output_type": "stream",
     "text": [
      "[[5 2]\n",
      " [3 4]]\n"
     ]
    }
   ],
   "source": [
    "x[0,0] = 5\n",
    "print(m)"
   ]
  },
  {
   "cell_type": "code",
   "execution_count": 151,
   "id": "3083132b-522b-4562-8936-ff7a4759c9a1",
   "metadata": {},
   "outputs": [
    {
     "name": "stdout",
     "output_type": "stream",
     "text": [
      "[[5 2]\n",
      " [3 4]]\n"
     ]
    }
   ],
   "source": [
    "print(x) # no copy was made so modifying x modifies m, and vice versa"
   ]
  },
  {
   "cell_type": "markdown",
   "id": "02256c9a-8990-4214-a31a-1bef6f2f2621",
   "metadata": {},
   "source": [
    "32. astype\n",
    "\n",
    "Copy of the array, cast to a specified type."
   ]
  },
  {
   "cell_type": "code",
   "execution_count": 152,
   "id": "6d0d3736-a562-42eb-92c8-00bc72283437",
   "metadata": {},
   "outputs": [
    {
     "data": {
      "text/plain": [
       "array([1. , 2. , 2.5])"
      ]
     },
     "execution_count": 152,
     "metadata": {},
     "output_type": "execute_result"
    }
   ],
   "source": [
    "x6 = np.array([1, 2, 2.5])\n",
    "x6"
   ]
  },
  {
   "cell_type": "code",
   "execution_count": 153,
   "id": "0e7e1410-327d-49e2-b16b-ac251c2cac6b",
   "metadata": {},
   "outputs": [
    {
     "data": {
      "text/plain": [
       "array([1, 2, 2])"
      ]
     },
     "execution_count": 153,
     "metadata": {},
     "output_type": "execute_result"
    }
   ],
   "source": [
    "x6.astype(int) # x6 default type was float with this command converting into int type"
   ]
  },
  {
   "cell_type": "code",
   "execution_count": 154,
   "id": "39870fff-cbcb-4ed0-b35c-5db85f2cc930",
   "metadata": {},
   "outputs": [
    {
     "data": {
      "text/plain": [
       "array([1. , 2. , 2.5])"
      ]
     },
     "execution_count": 154,
     "metadata": {},
     "output_type": "execute_result"
    }
   ],
   "source": [
    "x6.astype(None) # None implies converting to the default type"
   ]
  },
  {
   "cell_type": "markdown",
   "id": "0437de15-135f-495c-9695-7332e379394d",
   "metadata": {},
   "source": [
    "33. atleast 1d\n",
    "\n",
    "Convert inputs to arrays with at least one dimension"
   ]
  },
  {
   "cell_type": "code",
   "execution_count": 155,
   "id": "63b853d4-e83a-4ebc-9d9b-f0aa31fdf771",
   "metadata": {},
   "outputs": [
    {
     "data": {
      "text/plain": [
       "array([[[0, 1],\n",
       "        [2, 3]],\n",
       "\n",
       "       [[4, 5],\n",
       "        [6, 7]]])"
      ]
     },
     "execution_count": 155,
     "metadata": {},
     "output_type": "execute_result"
    }
   ],
   "source": [
    "a01 = 1 # 0-d array\n",
    "b01 = np.array([2,3]) # 1-d array\n",
    "c01 = np.array([[4,5],[6,7]]) # 2-d array\n",
    "d01 = np.arange(8).reshape(2,2,2) # 3-d array\n",
    "d01"
   ]
  },
  {
   "cell_type": "code",
   "execution_count": 156,
   "id": "cfd3c8a5-0d5e-4afe-b8f2-df23695545da",
   "metadata": {},
   "outputs": [
    {
     "data": {
      "text/plain": [
       "1"
      ]
     },
     "execution_count": 156,
     "metadata": {},
     "output_type": "execute_result"
    }
   ],
   "source": [
    "a01"
   ]
  },
  {
   "cell_type": "code",
   "execution_count": 157,
   "id": "fd37de1d-4ffb-45af-a992-8968075f290b",
   "metadata": {},
   "outputs": [
    {
     "data": {
      "text/plain": [
       "array([2, 3])"
      ]
     },
     "execution_count": 157,
     "metadata": {},
     "output_type": "execute_result"
    }
   ],
   "source": [
    "b01"
   ]
  },
  {
   "cell_type": "code",
   "execution_count": 158,
   "id": "aa814c5e-20b5-4e1e-908e-6d693cf64f16",
   "metadata": {},
   "outputs": [
    {
     "data": {
      "text/plain": [
       "array([[4, 5],\n",
       "       [6, 7]])"
      ]
     },
     "execution_count": 158,
     "metadata": {},
     "output_type": "execute_result"
    }
   ],
   "source": [
    "c01"
   ]
  },
  {
   "cell_type": "code",
   "execution_count": 159,
   "id": "ec740eda-5b78-49ea-b91d-54616e0c9e71",
   "metadata": {},
   "outputs": [
    {
     "data": {
      "text/plain": [
       "[array([1]),\n",
       " array([2, 3]),\n",
       " array([[4, 5],\n",
       "        [6, 7]]),\n",
       " array([[[0, 1],\n",
       "         [2, 3]],\n",
       " \n",
       "        [[4, 5],\n",
       "         [6, 7]]])]"
      ]
     },
     "execution_count": 159,
     "metadata": {},
     "output_type": "execute_result"
    }
   ],
   "source": [
    "np.atleast_1d(a01,b01,c01,d01) # all output arrays have dim >= 1"
   ]
  },
  {
   "cell_type": "markdown",
   "id": "3f3bba58-507d-43a3-a02b-fd1044dd793b",
   "metadata": {},
   "source": [
    "34. atleast_2d()\n",
    "\n",
    "-View inputs as arrays with at least two dimensions."
   ]
  },
  {
   "cell_type": "code",
   "execution_count": 160,
   "id": "1d6e69e4-c745-41d7-abf9-a977207bebbc",
   "metadata": {},
   "outputs": [],
   "source": [
    "a11 = 1 # 0-d array\n",
    "b11 = np.array([2,3]) # 1-d array\n",
    "c11 = np.array([[4,5],[6,7]]) # 2-d array\n",
    "d11 = np.arange(8).reshape(2,2,2) # 3-d array"
   ]
  },
  {
   "cell_type": "code",
   "execution_count": 161,
   "id": "aa25b42b-7593-44f3-8958-1692af7852ba",
   "metadata": {},
   "outputs": [
    {
     "data": {
      "text/plain": [
       "1"
      ]
     },
     "execution_count": 161,
     "metadata": {},
     "output_type": "execute_result"
    }
   ],
   "source": [
    "a11"
   ]
  },
  {
   "cell_type": "code",
   "execution_count": 162,
   "id": "56b588e4-4d38-451f-862e-404e6b4fe66b",
   "metadata": {},
   "outputs": [
    {
     "data": {
      "text/plain": [
       "array([2, 3])"
      ]
     },
     "execution_count": 162,
     "metadata": {},
     "output_type": "execute_result"
    }
   ],
   "source": [
    "b11"
   ]
  },
  {
   "cell_type": "code",
   "execution_count": 163,
   "id": "a3d14384-91bd-4fcd-a444-7a6d2fbf9318",
   "metadata": {},
   "outputs": [
    {
     "data": {
      "text/plain": [
       "array([[4, 5],\n",
       "       [6, 7]])"
      ]
     },
     "execution_count": 163,
     "metadata": {},
     "output_type": "execute_result"
    }
   ],
   "source": [
    "c11"
   ]
  },
  {
   "cell_type": "code",
   "execution_count": 164,
   "id": "205fc6da-4d35-4cb9-b561-412ef8a2c3f4",
   "metadata": {},
   "outputs": [
    {
     "data": {
      "text/plain": [
       "array([[[0, 1],\n",
       "        [2, 3]],\n",
       "\n",
       "       [[4, 5],\n",
       "        [6, 7]]])"
      ]
     },
     "execution_count": 164,
     "metadata": {},
     "output_type": "execute_result"
    }
   ],
   "source": [
    "d11"
   ]
  },
  {
   "cell_type": "code",
   "execution_count": 165,
   "id": "4bb406c1-00d4-44bb-80b7-5f22b89c42fd",
   "metadata": {},
   "outputs": [
    {
     "data": {
      "text/plain": [
       "[array([[1]]),\n",
       " array([[2, 3]]),\n",
       " array([[4, 5],\n",
       "        [6, 7]]),\n",
       " array([[[0, 1],\n",
       "         [2, 3]],\n",
       " \n",
       "        [[4, 5],\n",
       "         [6, 7]]])]"
      ]
     },
     "execution_count": 165,
     "metadata": {},
     "output_type": "execute_result"
    }
   ],
   "source": [
    "np.atleast_2d(a11,b11,c11,d11) # all output arrays have dim >= 2"
   ]
  },
  {
   "cell_type": "markdown",
   "id": "f2a48acf-4288-42b8-8280-05842b36089d",
   "metadata": {},
   "source": [
    "35. atleast_3d()\n",
    "\n",
    "-View inputs as arrays with at least three dimensions."
   ]
  },
  {
   "cell_type": "code",
   "execution_count": 166,
   "id": "8b10061a-76e5-4aed-a80e-cc666fd32144",
   "metadata": {},
   "outputs": [],
   "source": [
    "f = 1 # 0-d array\n",
    "g = np.array([2,3]) # 1-d array\n",
    "h = np.array([[4,5],[6,7]]) # 2-d array\n",
    "i = np.arange(8).reshape(2,2,2) # 3-d array"
   ]
  },
  {
   "cell_type": "code",
   "execution_count": 167,
   "id": "9eb63e44-e030-4c21-98e0-b78b061fa202",
   "metadata": {},
   "outputs": [
    {
     "data": {
      "text/plain": [
       "1"
      ]
     },
     "execution_count": 167,
     "metadata": {},
     "output_type": "execute_result"
    }
   ],
   "source": [
    "f"
   ]
  },
  {
   "cell_type": "code",
   "execution_count": 168,
   "id": "d7ef5b0f-6c27-4d9b-a65a-920b397ab0cf",
   "metadata": {},
   "outputs": [
    {
     "data": {
      "text/plain": [
       "array([2, 3])"
      ]
     },
     "execution_count": 168,
     "metadata": {},
     "output_type": "execute_result"
    }
   ],
   "source": [
    "g"
   ]
  },
  {
   "cell_type": "code",
   "execution_count": 169,
   "id": "6d3d18e1-00d5-4931-a173-da59c62c983d",
   "metadata": {},
   "outputs": [
    {
     "data": {
      "text/plain": [
       "array([[4, 5],\n",
       "       [6, 7]])"
      ]
     },
     "execution_count": 169,
     "metadata": {},
     "output_type": "execute_result"
    }
   ],
   "source": [
    "h"
   ]
  },
  {
   "cell_type": "code",
   "execution_count": 170,
   "id": "1699be86-b9f1-49ed-814a-70f238078f86",
   "metadata": {},
   "outputs": [
    {
     "data": {
      "text/plain": [
       "array([[[0, 1],\n",
       "        [2, 3]],\n",
       "\n",
       "       [[4, 5],\n",
       "        [6, 7]]])"
      ]
     },
     "execution_count": 170,
     "metadata": {},
     "output_type": "execute_result"
    }
   ],
   "source": [
    "i"
   ]
  },
  {
   "cell_type": "code",
   "execution_count": 171,
   "id": "5ef9da6d-7b43-4511-9095-7f15113893a0",
   "metadata": {},
   "outputs": [
    {
     "data": {
      "text/plain": [
       "[array([[[1]]]),\n",
       " array([[[2],\n",
       "         [3]]]),\n",
       " array([[[4],\n",
       "         [5]],\n",
       " \n",
       "        [[6],\n",
       "         [7]]]),\n",
       " array([[[0, 1],\n",
       "         [2, 3]],\n",
       " \n",
       "        [[4, 5],\n",
       "         [6, 7]]])]"
      ]
     },
     "execution_count": 171,
     "metadata": {},
     "output_type": "execute_result"
    }
   ],
   "source": [
    "np.atleast_3d(f,g,h,i) # all output arrays have dim >= 3"
   ]
  },
  {
   "cell_type": "markdown",
   "id": "877dbc38-3b17-4993-9119-0a96f09e0350",
   "metadata": {},
   "source": [
    "36. Average\n",
    "\n",
    "Compute the weighted average along the specified axis."
   ]
  },
  {
   "cell_type": "code",
   "execution_count": 172,
   "id": "c7011160-b531-45c8-9305-6b6e7d0226e0",
   "metadata": {},
   "outputs": [
    {
     "data": {
      "text/plain": [
       "array([1, 4, 5, 7, 5])"
      ]
     },
     "execution_count": 172,
     "metadata": {},
     "output_type": "execute_result"
    }
   ],
   "source": [
    "bz = np.array([1,4,5,7,5])\n",
    "bz"
   ]
  },
  {
   "cell_type": "code",
   "execution_count": 173,
   "id": "b3554db6-87bf-4067-8799-763c2348ec74",
   "metadata": {},
   "outputs": [
    {
     "data": {
      "text/plain": [
       "4.4"
      ]
     },
     "execution_count": 173,
     "metadata": {},
     "output_type": "execute_result"
    }
   ],
   "source": [
    "np.average(bz) # average always comes in float"
   ]
  },
  {
   "cell_type": "code",
   "execution_count": 174,
   "id": "f7b08ed6-1ee7-4866-9c81-a366f6245a3b",
   "metadata": {},
   "outputs": [],
   "source": [
    "w = np.array([0.1, 0.2, 0.5, 0.2, 0.2]) # weights, not necessarily normalized"
   ]
  },
  {
   "cell_type": "code",
   "execution_count": 175,
   "id": "2f46c532-4222-43c5-8db1-16a47be7cdff",
   "metadata": {},
   "outputs": [
    {
     "data": {
      "text/plain": [
       "4.833333333333333"
      ]
     },
     "execution_count": 175,
     "metadata": {},
     "output_type": "execute_result"
    }
   ],
   "source": [
    "np.average(bz,weights=w) # This will give weighted avg. = sum(Element * weights) / sum(weights)"
   ]
  },
  {
   "cell_type": "code",
   "execution_count": null,
   "id": "b073ede4-1399-461a-8c29-0629eddb7a30",
   "metadata": {},
   "outputs": [],
   "source": []
  }
 ],
 "metadata": {
  "kernelspec": {
   "display_name": "Python 3 (ipykernel)",
   "language": "python",
   "name": "python3"
  },
  "language_info": {
   "codemirror_mode": {
    "name": "ipython",
    "version": 3
   },
   "file_extension": ".py",
   "mimetype": "text/x-python",
   "name": "python",
   "nbconvert_exporter": "python",
   "pygments_lexer": "ipython3",
   "version": "3.12.4"
  }
 },
 "nbformat": 4,
 "nbformat_minor": 5
}
